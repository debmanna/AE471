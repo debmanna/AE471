{
 "cells": [
  {
   "cell_type": "code",
   "execution_count": 55,
   "metadata": {},
   "outputs": [],
   "source": [
    "import pandas as pd\n",
    "import numpy as np\n",
    "import matplotlib.pyplot as plt\n",
    "import pickle\n",
    "import gzip"
   ]
  },
  {
   "cell_type": "code",
   "execution_count": 49,
   "metadata": {},
   "outputs": [
    {
     "data": {
      "text/html": [
       "<div>\n",
       "<style scoped>\n",
       "    .dataframe tbody tr th:only-of-type {\n",
       "        vertical-align: middle;\n",
       "    }\n",
       "\n",
       "    .dataframe tbody tr th {\n",
       "        vertical-align: top;\n",
       "    }\n",
       "\n",
       "    .dataframe thead th {\n",
       "        text-align: right;\n",
       "    }\n",
       "</style>\n",
       "<table border=\"1\" class=\"dataframe\">\n",
       "  <thead>\n",
       "    <tr style=\"text-align: right;\">\n",
       "      <th></th>\n",
       "      <th>Total_KE</th>\n",
       "      <th>ratio1</th>\n",
       "      <th>ratio1_2</th>\n",
       "      <th>Unnamed: 3</th>\n",
       "    </tr>\n",
       "  </thead>\n",
       "  <tbody>\n",
       "    <tr>\n",
       "      <th>0</th>\n",
       "      <td>5.99726</td>\n",
       "      <td>-0.138855</td>\n",
       "      <td>0.861145</td>\n",
       "      <td>NaN</td>\n",
       "    </tr>\n",
       "    <tr>\n",
       "      <th>1</th>\n",
       "      <td>6.08850</td>\n",
       "      <td>-0.132065</td>\n",
       "      <td>0.867935</td>\n",
       "      <td>NaN</td>\n",
       "    </tr>\n",
       "    <tr>\n",
       "      <th>2</th>\n",
       "      <td>6.16021</td>\n",
       "      <td>-0.123209</td>\n",
       "      <td>0.876791</td>\n",
       "      <td>NaN</td>\n",
       "    </tr>\n",
       "    <tr>\n",
       "      <th>3</th>\n",
       "      <td>6.12924</td>\n",
       "      <td>-0.126581</td>\n",
       "      <td>0.873419</td>\n",
       "      <td>NaN</td>\n",
       "    </tr>\n",
       "    <tr>\n",
       "      <th>4</th>\n",
       "      <td>5.96973</td>\n",
       "      <td>-0.149302</td>\n",
       "      <td>0.850698</td>\n",
       "      <td>NaN</td>\n",
       "    </tr>\n",
       "  </tbody>\n",
       "</table>\n",
       "</div>"
      ],
      "text/plain": [
       "   Total_KE    ratio1  ratio1_2  Unnamed: 3\n",
       "0   5.99726 -0.138855  0.861145         NaN\n",
       "1   6.08850 -0.132065  0.867935         NaN\n",
       "2   6.16021 -0.123209  0.876791         NaN\n",
       "3   6.12924 -0.126581  0.873419         NaN\n",
       "4   5.96973 -0.149302  0.850698         NaN"
      ]
     },
     "execution_count": 49,
     "metadata": {},
     "output_type": "execute_result"
    }
   ],
   "source": [
    "Total_KE = pd.read_csv(\"Total_KE_ratio1_ratio1_2.csv\")\n",
    "Total_KE.head()"
   ]
  },
  {
   "cell_type": "code",
   "execution_count": 50,
   "metadata": {},
   "outputs": [
    {
     "data": {
      "text/html": [
       "<div>\n",
       "<style scoped>\n",
       "    .dataframe tbody tr th:only-of-type {\n",
       "        vertical-align: middle;\n",
       "    }\n",
       "\n",
       "    .dataframe tbody tr th {\n",
       "        vertical-align: top;\n",
       "    }\n",
       "\n",
       "    .dataframe thead th {\n",
       "        text-align: right;\n",
       "    }\n",
       "</style>\n",
       "<table border=\"1\" class=\"dataframe\">\n",
       "  <thead>\n",
       "    <tr style=\"text-align: right;\">\n",
       "      <th></th>\n",
       "      <th>Total_KE</th>\n",
       "      <th>ratio1</th>\n",
       "      <th>ratio1_2</th>\n",
       "    </tr>\n",
       "  </thead>\n",
       "  <tbody>\n",
       "    <tr>\n",
       "      <th>0</th>\n",
       "      <td>5.99726</td>\n",
       "      <td>-0.138855</td>\n",
       "      <td>0.861145</td>\n",
       "    </tr>\n",
       "    <tr>\n",
       "      <th>1</th>\n",
       "      <td>6.08850</td>\n",
       "      <td>-0.132065</td>\n",
       "      <td>0.867935</td>\n",
       "    </tr>\n",
       "    <tr>\n",
       "      <th>2</th>\n",
       "      <td>6.16021</td>\n",
       "      <td>-0.123209</td>\n",
       "      <td>0.876791</td>\n",
       "    </tr>\n",
       "    <tr>\n",
       "      <th>3</th>\n",
       "      <td>6.12924</td>\n",
       "      <td>-0.126581</td>\n",
       "      <td>0.873419</td>\n",
       "    </tr>\n",
       "    <tr>\n",
       "      <th>4</th>\n",
       "      <td>5.96973</td>\n",
       "      <td>-0.149302</td>\n",
       "      <td>0.850698</td>\n",
       "    </tr>\n",
       "  </tbody>\n",
       "</table>\n",
       "</div>"
      ],
      "text/plain": [
       "   Total_KE    ratio1  ratio1_2\n",
       "0   5.99726 -0.138855  0.861145\n",
       "1   6.08850 -0.132065  0.867935\n",
       "2   6.16021 -0.123209  0.876791\n",
       "3   6.12924 -0.126581  0.873419\n",
       "4   5.96973 -0.149302  0.850698"
      ]
     },
     "execution_count": 50,
     "metadata": {},
     "output_type": "execute_result"
    }
   ],
   "source": [
    "Total_KE.drop(columns = Total_KE.columns[-1], inplace = True)\n",
    "Total_KE.head()"
   ]
  },
  {
   "cell_type": "code",
   "execution_count": 51,
   "metadata": {},
   "outputs": [
    {
     "data": {
      "text/plain": [
       "801"
      ]
     },
     "execution_count": 51,
     "metadata": {},
     "output_type": "execute_result"
    }
   ],
   "source": [
    "Total_KE.shape[0]//18000"
   ]
  },
  {
   "cell_type": "code",
   "execution_count": 52,
   "metadata": {},
   "outputs": [],
   "source": [
    "df = Total_KE"
   ]
  },
  {
   "cell_type": "code",
   "execution_count": 53,
   "metadata": {},
   "outputs": [],
   "source": [
    "small_dfs = []\n",
    "\n",
    "# Define the size of each smaller DataFrame\n",
    "small_df_size = 18000\n",
    "\n",
    "# Calculate the total number of smaller DataFrames needed\n",
    "num_small_dfs = df.shape[0] // small_df_size\n",
    "\n",
    "# Iterate over the range of total number of smaller DataFrames\n",
    "for i in range(num_small_dfs):\n",
    "    # Calculate the start and end indices for slicing\n",
    "    start_idx = i * small_df_size\n",
    "    end_idx = (i + 1) * small_df_size\n",
    "    \n",
    "    # Slice the original DataFrame to create the smaller DataFrame\n",
    "    small_df = df.iloc[start_idx:end_idx, :].reset_index(drop=True)\n",
    "    \n",
    "    # Append the smaller DataFrame to the list\n",
    "    small_dfs.append(small_df)\n"
   ]
  },
  {
   "cell_type": "code",
   "execution_count": 56,
   "metadata": {},
   "outputs": [],
   "source": [
    "# Store the list of smaller DataFrames as a compressed pickle file\n",
    "with gzip.open('Total_KE_ratio1_ratio_1_2.pkl.gz', 'wb') as f:\n",
    "    pickle.dump(small_dfs, f)"
   ]
  },
  {
   "cell_type": "code",
   "execution_count": 57,
   "metadata": {},
   "outputs": [],
   "source": [
    "# Load the list of smaller DataFrames from the compressed pickle file\n",
    "with gzip.open('Total_KE_ratio1_ratio_1_2.pkl.gz', 'rb') as f:\n",
    "    DF = pickle.load(f)\n"
   ]
  },
  {
   "cell_type": "code",
   "execution_count": 60,
   "metadata": {},
   "outputs": [
    {
     "data": {
      "text/html": [
       "<div>\n",
       "<style scoped>\n",
       "    .dataframe tbody tr th:only-of-type {\n",
       "        vertical-align: middle;\n",
       "    }\n",
       "\n",
       "    .dataframe tbody tr th {\n",
       "        vertical-align: top;\n",
       "    }\n",
       "\n",
       "    .dataframe thead th {\n",
       "        text-align: right;\n",
       "    }\n",
       "</style>\n",
       "<table border=\"1\" class=\"dataframe\">\n",
       "  <thead>\n",
       "    <tr style=\"text-align: right;\">\n",
       "      <th></th>\n",
       "      <th>Total_KE</th>\n",
       "      <th>ratio1</th>\n",
       "      <th>ratio1_2</th>\n",
       "    </tr>\n",
       "  </thead>\n",
       "  <tbody>\n",
       "    <tr>\n",
       "      <th>0</th>\n",
       "      <td>6.09936</td>\n",
       "      <td>-0.124195</td>\n",
       "      <td>0.875805</td>\n",
       "    </tr>\n",
       "    <tr>\n",
       "      <th>1</th>\n",
       "      <td>6.06357</td>\n",
       "      <td>-0.135619</td>\n",
       "      <td>0.864381</td>\n",
       "    </tr>\n",
       "    <tr>\n",
       "      <th>2</th>\n",
       "      <td>5.65228</td>\n",
       "      <td>-0.195505</td>\n",
       "      <td>0.804495</td>\n",
       "    </tr>\n",
       "    <tr>\n",
       "      <th>3</th>\n",
       "      <td>5.28257</td>\n",
       "      <td>-0.247232</td>\n",
       "      <td>0.752768</td>\n",
       "    </tr>\n",
       "    <tr>\n",
       "      <th>4</th>\n",
       "      <td>5.33179</td>\n",
       "      <td>-0.240210</td>\n",
       "      <td>0.759790</td>\n",
       "    </tr>\n",
       "    <tr>\n",
       "      <th>...</th>\n",
       "      <td>...</td>\n",
       "      <td>...</td>\n",
       "      <td>...</td>\n",
       "    </tr>\n",
       "    <tr>\n",
       "      <th>17995</th>\n",
       "      <td>9.43134</td>\n",
       "      <td>0.746113</td>\n",
       "      <td>1.746110</td>\n",
       "    </tr>\n",
       "    <tr>\n",
       "      <th>17996</th>\n",
       "      <td>9.76765</td>\n",
       "      <td>0.828630</td>\n",
       "      <td>1.828630</td>\n",
       "    </tr>\n",
       "    <tr>\n",
       "      <th>17997</th>\n",
       "      <td>9.82273</td>\n",
       "      <td>0.844259</td>\n",
       "      <td>1.844260</td>\n",
       "    </tr>\n",
       "    <tr>\n",
       "      <th>17998</th>\n",
       "      <td>9.70754</td>\n",
       "      <td>0.833026</td>\n",
       "      <td>1.833030</td>\n",
       "    </tr>\n",
       "    <tr>\n",
       "      <th>17999</th>\n",
       "      <td>9.35300</td>\n",
       "      <td>0.769849</td>\n",
       "      <td>1.769850</td>\n",
       "    </tr>\n",
       "  </tbody>\n",
       "</table>\n",
       "<p>18000 rows × 3 columns</p>\n",
       "</div>"
      ],
      "text/plain": [
       "       Total_KE    ratio1  ratio1_2\n",
       "0       6.09936 -0.124195  0.875805\n",
       "1       6.06357 -0.135619  0.864381\n",
       "2       5.65228 -0.195505  0.804495\n",
       "3       5.28257 -0.247232  0.752768\n",
       "4       5.33179 -0.240210  0.759790\n",
       "...         ...       ...       ...\n",
       "17995   9.43134  0.746113  1.746110\n",
       "17996   9.76765  0.828630  1.828630\n",
       "17997   9.82273  0.844259  1.844260\n",
       "17998   9.70754  0.833026  1.833030\n",
       "17999   9.35300  0.769849  1.769850\n",
       "\n",
       "[18000 rows x 3 columns]"
      ]
     },
     "execution_count": 60,
     "metadata": {},
     "output_type": "execute_result"
    }
   ],
   "source": [
    "DF[110]"
   ]
  },
  {
   "cell_type": "code",
   "execution_count": null,
   "metadata": {},
   "outputs": [],
   "source": []
  }
 ],
 "metadata": {
  "kernelspec": {
   "display_name": "Python 3",
   "language": "python",
   "name": "python3"
  },
  "language_info": {
   "codemirror_mode": {
    "name": "ipython",
    "version": 3
   },
   "file_extension": ".py",
   "mimetype": "text/x-python",
   "name": "python",
   "nbconvert_exporter": "python",
   "pygments_lexer": "ipython3",
   "version": "3.10.12"
  }
 },
 "nbformat": 4,
 "nbformat_minor": 2
}
